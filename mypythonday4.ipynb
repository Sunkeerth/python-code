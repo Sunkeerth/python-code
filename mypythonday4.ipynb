{
 "cells": [
  {
   "cell_type": "markdown",
   "id": "b4beb266-8129-4a6f-9182-3da893e4c233",
   "metadata": {},
   "source": [
    "Arrguments : parameters passed to a function as input.\n",
    "parameters:which collects the input as arrguments.\n",
    "\n"
   ]
  },
  {
   "cell_type": "code",
   "execution_count": 2,
   "id": "1c05c421-dab4-4a94-bfbe-a1b1f6a0883b",
   "metadata": {},
   "outputs": [
    {
     "name": "stdout",
     "output_type": "stream",
     "text": [
      "30\n"
     ]
    }
   ],
   "source": [
    "\n",
    "\n",
    "def add(a,b):\n",
    "    c=a+b\n",
    "    print(c)\n",
    "add(10,20)# 10,20 are the arrguments and a,b are the parameters "
   ]
  },
  {
   "cell_type": "markdown",
   "id": "bcd3736a-3866-4a98-8fd6-db0c9c5e627f",
   "metadata": {},
   "source": [
    "We have different types of arguments:\n",
    "1. Positional arguments\n",
    "2. Default arguments (Optional arguments)\n",
    "3. Keyword arguments\n",
    "4. Variable length arguments (Arbitrary arguments)\n",
    "5. Variable keyword length arguments (Arbitrary keyword\n",
    "arguments)"
   ]
  },
  {
   "cell_type": "code",
   "execution_count": 3,
   "id": "84e944d8-45c1-4413-a14c-329effd869ae",
   "metadata": {},
   "outputs": [
    {
     "name": "stdout",
     "output_type": "stream",
     "text": [
      "100000000000000000000\n"
     ]
    }
   ],
   "source": [
    "#1.\n",
    "def power_of(a,b):\n",
    "    c=a**b\n",
    "    print(c)\n",
    "power_of(10,20)"
   ]
  },
  {
   "cell_type": "code",
   "execution_count": 5,
   "id": "d816afee-7382-4f5a-94d9-2db563d94be3",
   "metadata": {},
   "outputs": [
    {
     "name": "stdout",
     "output_type": "stream",
     "text": [
      "100000000000000000000\n",
      "1000\n"
     ]
    }
   ],
   "source": [
    "#2\n",
    "def power_of(a,b=3):\n",
    "    c=a**b\n",
    "    print(c)\n",
    "power_of(10,20)\n",
    "power_of(10)\n",
    "\n"
   ]
  },
  {
   "cell_type": "code",
   "execution_count": 6,
   "id": "bb86d79d-02f6-4cb6-a52f-89e88454c2a4",
   "metadata": {},
   "outputs": [
    {
     "name": "stdout",
     "output_type": "stream",
     "text": [
      "100000000000000000000\n",
      "9765625\n"
     ]
    }
   ],
   "source": [
    "#3\n",
    "def power_of(a,b=3):\n",
    "    c=a**b\n",
    "    print(c)\n",
    "power_of(a=10,b=20)\n",
    "power_of(b=10,a=5)\n"
   ]
  },
  {
   "cell_type": "code",
   "execution_count": 8,
   "id": "c81bcdfd-f7c8-48ec-8c99-d64730106806",
   "metadata": {},
   "outputs": [
    {
     "ename": "TypeError",
     "evalue": "taste_food() takes 1 positional argument but 4 were given",
     "output_type": "error",
     "traceback": [
      "\u001b[1;31m---------------------------------------------------------------------------\u001b[0m",
      "\u001b[1;31mTypeError\u001b[0m                                 Traceback (most recent call last)",
      "Cell \u001b[1;32mIn[8], line 3\u001b[0m\n\u001b[0;32m      1\u001b[0m \u001b[38;5;28;01mdef\u001b[39;00m \u001b[38;5;21mtaste_food\u001b[39m(foodes):\n\u001b[0;32m      2\u001b[0m     \u001b[38;5;28mprint\u001b[39m(foodes)\n\u001b[1;32m----> 3\u001b[0m \u001b[43mtaste_food\u001b[49m\u001b[43m(\u001b[49m\u001b[38;5;124;43m'\u001b[39;49m\u001b[38;5;124;43mpissa\u001b[39;49m\u001b[38;5;124;43m'\u001b[39;49m\u001b[43m,\u001b[49m\u001b[38;5;124;43m'\u001b[39;49m\u001b[38;5;124;43mburger\u001b[39;49m\u001b[38;5;124;43m'\u001b[39;49m\u001b[43m,\u001b[49m\u001b[38;5;124;43m'\u001b[39;49m\u001b[38;5;124;43mcococola\u001b[39;49m\u001b[38;5;124;43m'\u001b[39;49m\u001b[43m,\u001b[49m\u001b[38;5;124;43m'\u001b[39;49m\u001b[38;5;124;43mroti\u001b[39;49m\u001b[38;5;124;43m'\u001b[39;49m\u001b[43m)\u001b[49m\n",
      "\u001b[1;31mTypeError\u001b[0m: taste_food() takes 1 positional argument but 4 were given"
     ]
    }
   ],
   "source": [
    "#4\n",
    "def taste_food(foodes):\n",
    "    print(foodes)\n",
    "taste_food('pissa','burger','cococola','roti')"
   ]
  },
  {
   "cell_type": "code",
   "execution_count": 19,
   "id": "f08fb988-85ee-4c37-b8fd-93be0bf33936",
   "metadata": {},
   "outputs": [
    {
     "name": "stdout",
     "output_type": "stream",
     "text": [
      "('pissa', 'burger', 'cococola', 'roti')\n"
     ]
    }
   ],
   "source": [
    "#Note: * in front of the parameter makes it a tuple. But while calling \n",
    "#for it we should just enter name which does not contain *\n",
    "def taste_food(*foodes):\n",
    "    print(foodes)\n",
    "taste_food('pissa','burger','cococola','roti')\n",
    "\n"
   ]
  },
  {
   "cell_type": "code",
   "execution_count": 18,
   "id": "25e91f62-445b-422a-8373-96579c58d6c8",
   "metadata": {},
   "outputs": [
    {
     "ename": "TypeError",
     "evalue": "taste_food() missing 1 required keyword-only argument: 'crust'",
     "output_type": "error",
     "traceback": [
      "\u001b[1;31m---------------------------------------------------------------------------\u001b[0m",
      "\u001b[1;31mTypeError\u001b[0m                                 Traceback (most recent call last)",
      "Cell \u001b[1;32mIn[18], line 3\u001b[0m\n\u001b[0;32m      1\u001b[0m \u001b[38;5;28;01mdef\u001b[39;00m \u001b[38;5;21mtaste_food\u001b[39m(\u001b[38;5;241m*\u001b[39mfoodes,crust):\n\u001b[0;32m      2\u001b[0m     \u001b[38;5;28mprint\u001b[39m(foodes)\n\u001b[1;32m----> 3\u001b[0m \u001b[43mtaste_food\u001b[49m\u001b[43m(\u001b[49m\u001b[38;5;124;43m'\u001b[39;49m\u001b[38;5;124;43mpissa\u001b[39;49m\u001b[38;5;124;43m'\u001b[39;49m\u001b[43m,\u001b[49m\u001b[38;5;124;43m'\u001b[39;49m\u001b[38;5;124;43mburger\u001b[39;49m\u001b[38;5;124;43m'\u001b[39;49m\u001b[43m,\u001b[49m\u001b[38;5;124;43m'\u001b[39;49m\u001b[38;5;124;43mcococola\u001b[39;49m\u001b[38;5;124;43m'\u001b[39;49m\u001b[43m,\u001b[49m\u001b[38;5;124;43m'\u001b[39;49m\u001b[38;5;124;43mroti\u001b[39;49m\u001b[38;5;124;43m'\u001b[39;49m\u001b[43m,\u001b[49m\u001b[38;5;124;43m'\u001b[39;49m\u001b[38;5;124;43mthin\u001b[39;49m\u001b[38;5;124;43m'\u001b[39;49m\u001b[43m)\u001b[49m\n",
      "\u001b[1;31mTypeError\u001b[0m: taste_food() missing 1 required keyword-only argument: 'crust'"
     ]
    }
   ],
   "source": [
    "def taste_food(*foodes,crust):\n",
    "    print(foodes)\n",
    "taste_food('pissa','burger','cococola','roti','thin')"
   ]
  },
  {
   "cell_type": "code",
   "execution_count": 20,
   "id": "6777b743-6c09-418b-aeef-bba79b3e4e02",
   "metadata": {},
   "outputs": [
    {
     "name": "stdout",
     "output_type": "stream",
     "text": [
      "('pissa', 'burger', 'cococola', 'roti', 'thin')\n"
     ]
    }
   ],
   "source": [
    "# to overcome the error above we need specfiy that the python need to understsnd which is parameter\n",
    "def taste_food(*foodes,crust):\n",
    "    print(foodes)\n",
    "taste_food('pissa','burger','cococola','roti','thin',crust='thin')"
   ]
  },
  {
   "cell_type": "code",
   "execution_count": 22,
   "id": "8c080fff-65f3-41bc-95ca-851302f27665",
   "metadata": {},
   "outputs": [
    {
     "name": "stdout",
     "output_type": "stream",
     "text": [
      "('sunkeerth', 10, 10.99)\n"
     ]
    }
   ],
   "source": [
    "def data(*data):\n",
    "    print(data)\n",
    "data('sunkeerth',10,10.99)\n"
   ]
  },
  {
   "cell_type": "code",
   "execution_count": 23,
   "id": "aa1ec778-28fb-4702-9157-01c3e1dcc713",
   "metadata": {},
   "outputs": [
    {
     "ename": "TypeError",
     "evalue": "data() got an unexpected keyword argument 'name'",
     "output_type": "error",
     "traceback": [
      "\u001b[1;31m---------------------------------------------------------------------------\u001b[0m",
      "\u001b[1;31mTypeError\u001b[0m                                 Traceback (most recent call last)",
      "Cell \u001b[1;32mIn[23], line 4\u001b[0m\n\u001b[0;32m      2\u001b[0m \u001b[38;5;28;01mdef\u001b[39;00m \u001b[38;5;21mdata\u001b[39m(\u001b[38;5;241m*\u001b[39mdata):\n\u001b[0;32m      3\u001b[0m     \u001b[38;5;28mprint\u001b[39m(data)\n\u001b[1;32m----> 4\u001b[0m \u001b[43mdata\u001b[49m\u001b[43m(\u001b[49m\u001b[43mname\u001b[49m\u001b[38;5;241;43m=\u001b[39;49m\u001b[38;5;124;43m'\u001b[39;49m\u001b[38;5;124;43msunkeerth\u001b[39;49m\u001b[38;5;124;43m'\u001b[39;49m\u001b[43m,\u001b[49m\u001b[43mage\u001b[49m\u001b[38;5;241;43m=\u001b[39;49m\u001b[38;5;241;43m10\u001b[39;49m\u001b[43m,\u001b[49m\u001b[43mmarks\u001b[49m\u001b[38;5;241;43m=\u001b[39;49m\u001b[38;5;241;43m10.99\u001b[39;49m\u001b[43m)\u001b[49m\n",
      "\u001b[1;31mTypeError\u001b[0m: data() got an unexpected keyword argument 'name'"
     ]
    }
   ],
   "source": [
    "# To specify the which type of data it is \n",
    "def data(*data):\n",
    "    print(data)\n",
    "data(name='sunkeerth',age=10,marks=10.99)\n"
   ]
  },
  {
   "cell_type": "code",
   "execution_count": 25,
   "id": "3b5e30ba-db97-4d4a-9802-9c5ff50f5d9a",
   "metadata": {},
   "outputs": [
    {
     "name": "stdout",
     "output_type": "stream",
     "text": [
      "{'name': 'sunkeerth', 'age': 10, 'marks': 10.99}\n"
     ]
    },
    {
     "ename": "AttributeError",
     "evalue": "'function' object has no attribute 'append'",
     "output_type": "error",
     "traceback": [
      "\u001b[1;31m---------------------------------------------------------------------------\u001b[0m",
      "\u001b[1;31mAttributeError\u001b[0m                            Traceback (most recent call last)",
      "Cell \u001b[1;32mIn[25], line 6\u001b[0m\n\u001b[0;32m      4\u001b[0m data(name\u001b[38;5;241m=\u001b[39m\u001b[38;5;124m'\u001b[39m\u001b[38;5;124msunkeerth\u001b[39m\u001b[38;5;124m'\u001b[39m,age\u001b[38;5;241m=\u001b[39m\u001b[38;5;241m10\u001b[39m,marks\u001b[38;5;241m=\u001b[39m\u001b[38;5;241m10.99\u001b[39m)\n\u001b[0;32m      5\u001b[0m \u001b[38;5;66;03m# it will treat has the distonary\u001b[39;00m\n\u001b[1;32m----> 6\u001b[0m \u001b[43mdata\u001b[49m\u001b[38;5;241;43m.\u001b[39;49m\u001b[43mappend\u001b[49m(hight\u001b[38;5;241m=\u001b[39m\u001b[38;5;241m6.1\u001b[39m)\n\u001b[0;32m      7\u001b[0m \u001b[38;5;28mprint\u001b[39m(data)\n",
      "\u001b[1;31mAttributeError\u001b[0m: 'function' object has no attribute 'append'"
     ]
    }
   ],
   "source": [
    "# To specify the which type of data it is \n",
    "def data(**data):\n",
    "    print(data)\n",
    "data(name='sunkeerth',age=10,marks=10.99)\n",
    "# it will treat has the distonary\n",
    "data.append(hight=6.1)\n",
    "print(data)"
   ]
  },
  {
   "cell_type": "code",
   "execution_count": 33,
   "id": "7f2fa10a-530f-4b70-81da-a4bb5b1196f8",
   "metadata": {},
   "outputs": [
    {
     "name": "stdout",
     "output_type": "stream",
     "text": [
      "{'name': 'sunkeerth', 'age': 10, 'marks': 10.99}\n"
     ]
    }
   ],
   "source": [
    "# To specify the which type of data it is \n",
    "def data(**data):\n",
    "    print(data)\n",
    "data(name='sunkeerth',age=10,marks=10.99)\n",
    "# it will treat has the distonary\n"
   ]
  },
  {
   "cell_type": "code",
   "execution_count": null,
   "id": "82d1305a-1445-483b-90da-c332ce1a5091",
   "metadata": {},
   "outputs": [],
   "source": []
  }
 ],
 "metadata": {
  "kernelspec": {
   "display_name": "Python 3 (ipykernel)",
   "language": "python",
   "name": "python3"
  },
  "language_info": {
   "codemirror_mode": {
    "name": "ipython",
    "version": 3
   },
   "file_extension": ".py",
   "mimetype": "text/x-python",
   "name": "python",
   "nbconvert_exporter": "python",
   "pygments_lexer": "ipython3",
   "version": "3.12.3"
  }
 },
 "nbformat": 4,
 "nbformat_minor": 5
}
