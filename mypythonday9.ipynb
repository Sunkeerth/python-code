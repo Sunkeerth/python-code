{
 "cells": [
  {
   "cell_type": "markdown",
   "id": "2da68340-d778-4894-ae82-1b909038bc0a",
   "metadata": {},
   "source": [
    "efficient way to concat the string \n"
   ]
  },
  {
   "cell_type": "code",
   "execution_count": 1,
   "id": "12eac6fb-21a7-4528-88f3-606ab7ac118a",
   "metadata": {},
   "outputs": [
    {
     "name": "stdout",
     "output_type": "stream",
     "text": [
      "c lanuagec++languagejavapythpn\n"
     ]
    }
   ],
   "source": [
    "li = ['c lanuage','c++language','java','pythpn']\n",
    "s = ''\n",
    "for i in li:\n",
    "    s = s+i\n",
    "print(s)\n",
    "\"\"\" it is insiffecient because of the were there will be different unrefrencing string were it will collacted by the grabage\n",
    "and memeory required \"\"\""
   ]
  },
  {
   "cell_type": "code",
   "execution_count": 2,
   "id": "f7e0d0d4-03a1-45eb-ad7e-ffdf9129b065",
   "metadata": {},
   "outputs": [
    {
     "name": "stdout",
     "output_type": "stream",
     "text": [
      "c lanuagec++languagejavapythpn\n"
     ]
    }
   ],
   "source": [
    "\"\"\" Efficient way to usig join\"\"\"\n",
    "li = ['c lanuage','c++language','java','pythpn']\n",
    "s = ''.join(li)\n",
    "print(s)\n"
   ]
  },
  {
   "cell_type": "code",
   "execution_count": 6,
   "id": "e0666bd3-dc48-42c8-8cb5-bc56836577ab",
   "metadata": {},
   "outputs": [
    {
     "name": "stdout",
     "output_type": "stream",
     "text": [
      "https-kdikddidi\n",
      "https-jufjfujfu\n",
      "https-fjufjmfj\n"
     ]
    }
   ],
   "source": [
    "\"\"\" if the starting string of leters are same\"\"\"\n",
    "url = ['https-kdikddidi','https-jufjfujfu','https-fjufjmfj','http-dhhdfikfi']\n",
    "for i in url:\n",
    "    if i[0:5:] == \"https\":\n",
    "        print(i)"
   ]
  },
  {
   "cell_type": "code",
   "execution_count": 10,
   "id": "c5f11f3b-85a2-4e14-915d-8495cfb2d801",
   "metadata": {},
   "outputs": [
    {
     "name": "stdout",
     "output_type": "stream",
     "text": [
      "https-kdikddidi\n",
      "https-jufjfujfu\n",
      "https-fjufjmfj\n"
     ]
    }
   ],
   "source": [
    "\"\"\"Built in function\"\"\"\n",
    "#Startswith\n",
    "url = ['https-kdikddidi.com','https-jufjfujfu.com','https-fjufjmfj.com','http-dhhdfikfi.org']\n",
    "for i in url:\n",
    "    if i.startswith(\"https\"):\n",
    "        print(i)\n"
   ]
  },
  {
   "cell_type": "code",
   "execution_count": 18,
   "id": "e7c1c2f4-ece1-457e-aed1-7850d530bd62",
   "metadata": {},
   "outputs": [
    {
     "name": "stdout",
     "output_type": "stream",
     "text": [
      "http-dhhdfikfi.org\n"
     ]
    }
   ],
   "source": [
    "\"\"\"Built in function\"\"\"\n",
    "#Startswith\n",
    "url = ['https-kdikddidi.com','https-jufjfujfu.com','https-fjufjmfj.com','http-dhhdfikfi.org']\n",
    "for i in url:\n",
    "    if i[len(i)-3::1] == \"org\":\n",
    "        print(i)\n"
   ]
  },
  {
   "cell_type": "code",
   "execution_count": 23,
   "id": "f916e89b-b64d-49b8-bce6-367690097064",
   "metadata": {},
   "outputs": [],
   "source": [
    "\"\"\"Built in function\"\"\"\n",
    "#Startswith\n",
    "url = ['https-kdikddidi.com','https-jufjfujfu.com','https-fjufjmfj.com','http-dhhdfikfi.org']\n",
    "for i in url:\n",
    "    if i[len(i)::-1] == \"moc\" :\n",
    "        print(i)\n"
   ]
  },
  {
   "cell_type": "code",
   "execution_count": 28,
   "id": "e396830c-caf5-4c13-8bbd-af367a1f78c0",
   "metadata": {},
   "outputs": [
    {
     "ename": "SyntaxError",
     "evalue": "invalid syntax (1230752909.py, line 5)",
     "output_type": "error",
     "traceback": [
      "\u001b[1;36m  Cell \u001b[1;32mIn[28], line 5\u001b[1;36m\u001b[0m\n\u001b[1;33m    if i.(endswith(\"org\",\"org\")):\u001b[0m\n\u001b[1;37m         ^\u001b[0m\n\u001b[1;31mSyntaxError\u001b[0m\u001b[1;31m:\u001b[0m invalid syntax\n"
     ]
    }
   ],
   "source": [
    "\"\"\"Built in function\"\"\"\n",
    "#endswith\n",
    "url = ['https-kdikddidi.com','https-jufjfujfu.com','https-fjufjmfj.com','http-dhhdfikfi.org']\n",
    "for i in url:\n",
    "    if i.(endswith(\"org\",\"org\")):\n",
    "        print(i)\n"
   ]
  },
  {
   "cell_type": "code",
   "execution_count": null,
   "id": "03eb0440-33b2-4610-9456-307d917bc3ac",
   "metadata": {},
   "outputs": [],
   "source": []
  }
 ],
 "metadata": {
  "kernelspec": {
   "display_name": "Python 3 (ipykernel)",
   "language": "python",
   "name": "python3"
  },
  "language_info": {
   "codemirror_mode": {
    "name": "ipython",
    "version": 3
   },
   "file_extension": ".py",
   "mimetype": "text/x-python",
   "name": "python",
   "nbconvert_exporter": "python",
   "pygments_lexer": "ipython3",
   "version": "3.12.3"
  }
 },
 "nbformat": 4,
 "nbformat_minor": 5
}
