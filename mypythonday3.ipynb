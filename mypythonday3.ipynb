{
 "cells": [
  {
   "cell_type": "markdown",
   "id": "5409e044-0d82-4314-9ed5-e2c48c7ea995",
   "metadata": {},
   "source": [
    "Type casting:\n",
    "converting the one type of data in to another type \n"
   ]
  },
  {
   "cell_type": "code",
   "execution_count": 2,
   "id": "a272d24a-857d-48c3-89c6-d6cc133992cc",
   "metadata": {},
   "outputs": [
    {
     "name": "stdout",
     "output_type": "stream",
     "text": [
      "10\n",
      "10.0\n"
     ]
    }
   ],
   "source": [
    "a=10\n",
    "print(a)\n",
    "b=float(a)\n",
    "print(b)"
   ]
  },
  {
   "cell_type": "code",
   "execution_count": 3,
   "id": "56bf3a2c-ed79-409b-9850-f91097bfa744",
   "metadata": {},
   "outputs": [
    {
     "name": "stdout",
     "output_type": "stream",
     "text": [
      "10.9\n",
      "10\n"
     ]
    }
   ],
   "source": [
    "a=10.9\n",
    "print(a)\n",
    "b=int(a)\n",
    "print(b)"
   ]
  },
  {
   "cell_type": "code",
   "execution_count": 6,
   "id": "ba1223db-1820-4f36-a86a-abd7a899d302",
   "metadata": {},
   "outputs": [
    {
     "name": "stdout",
     "output_type": "stream",
     "text": [
      "19.99\n",
      "(19.99+4j)\n"
     ]
    }
   ],
   "source": [
    "a=19.99\n",
    "print(a)\n",
    "b=complex(a,4)\n",
    "print(b)"
   ]
  },
  {
   "cell_type": "code",
   "execution_count": 8,
   "id": "ded02629-ae7d-4d55-8f9f-42e523eb1ea7",
   "metadata": {},
   "outputs": [
    {
     "name": "stdout",
     "output_type": "stream",
     "text": [
      "10\n",
      "10\n",
      "<class 'int'>\n",
      "<class 'str'>\n"
     ]
    }
   ],
   "source": [
    "a=10\n",
    "print(a)\n",
    "b=str(a)\n",
    "print(b)\n",
    "print(type(a))\n",
    "print(type(b))"
   ]
  },
  {
   "cell_type": "markdown",
   "id": "f4f9fa7c-9aec-40b0-a03c-eae6a41b1065",
   "metadata": {},
   "source": [
    "Mutable and immmutable data types:\n",
    "\n",
    "reference are stored in stack in memory and objects are created in the heap.\n",
    "\n",
    "if there is no refenence the obj is collected by garabage collector present in the python.\n"
   ]
  },
  {
   "cell_type": "code",
   "execution_count": 10,
   "id": "f4d1bbb1-4259-4818-9b9a-7a80795d4ed0",
   "metadata": {},
   "outputs": [
    {
     "name": "stdout",
     "output_type": "stream",
     "text": [
      "10\n",
      "20\n"
     ]
    }
   ],
   "source": [
    "a=10\n",
    "print(a)\n",
    "#a=10 is different obj in heap\n",
    "a=20\n",
    "print(a)\n",
    "#a=20 is different obj in heap"
   ]
  },
  {
   "cell_type": "code",
   "execution_count": 12,
   "id": "0fbbb960-5be5-4004-8b11-d40466466c66",
   "metadata": {},
   "outputs": [
    {
     "name": "stdout",
     "output_type": "stream",
     "text": [
      "140722778544856\n",
      "140722778545176\n"
     ]
    }
   ],
   "source": [
    "# To know the address of reference we usr id() fun\n",
    "a=10\n",
    "print(id(a))\n",
    "#a=10 is different obj in heap\n",
    "a=20\n",
    "print(id(a))\n",
    "#a=20 is different obj in heap"
   ]
  },
  {
   "cell_type": "code",
   "execution_count": 17,
   "id": "aad73be0-ce33-4f68-9349-af96d4cb6657",
   "metadata": {},
   "outputs": [
    {
     "name": "stdout",
     "output_type": "stream",
     "text": [
      "[1, 2, 3, 4, 5, 6]\n",
      "<class 'list'>\n",
      "None\n",
      "[4, 5, 6, 7, 8, 9]\n",
      "<class 'list'>\n",
      "None\n",
      "False\n",
      "1637472522944\n",
      "1637472577856\n"
     ]
    }
   ],
   "source": [
    "# mutable data type \n",
    "lis1=[1,2,3,4,5,6]\n",
    "print(lis1)\n",
    "print(type(lis1))\n",
    "print(lis1.append(7))\n",
    "list2=[4,5,6,7,8,9]\n",
    "print(list2)\n",
    "print(type(list2))\n",
    "print(list2.append(10))\n",
    "# is operator is used to check the reference are refering to the obj \n",
    "print(lis1 is list2)\n",
    "print(id(lis1))\n",
    "print(id(list2))\n",
    "\n"
   ]
  },
  {
   "cell_type": "code",
   "execution_count": null,
   "id": "9a59a447-5612-4433-9e14-0299084c9d10",
   "metadata": {},
   "outputs": [],
   "source": []
  }
 ],
 "metadata": {
  "kernelspec": {
   "display_name": "Python 3 (ipykernel)",
   "language": "python",
   "name": "python3"
  },
  "language_info": {
   "codemirror_mode": {
    "name": "ipython",
    "version": 3
   },
   "file_extension": ".py",
   "mimetype": "text/x-python",
   "name": "python",
   "nbconvert_exporter": "python",
   "pygments_lexer": "ipython3",
   "version": "3.12.3"
  }
 },
 "nbformat": 4,
 "nbformat_minor": 5
}
