{
 "cells": [
  {
   "cell_type": "code",
   "execution_count": 1,
   "id": "b8fa10c4-a7ba-4ed4-b381-9f754e61fbff",
   "metadata": {},
   "outputs": [
    {
     "name": "stdout",
     "output_type": "stream",
     "text": [
      "sunkeerth  sunkeerth  sunkeerth  \n"
     ]
    }
   ],
   "source": [
    "#string replication\n",
    "s=\"sunkeerth  \"\n",
    "r=s*3\n",
    "print(r)"
   ]
  },
  {
   "cell_type": "code",
   "execution_count": 6,
   "id": "50efbf0f-6e6f-423d-aba4-ffcf7a4ed1f5",
   "metadata": {},
   "outputs": [
    {
     "name": "stdout",
     "output_type": "stream",
     "text": [
      "<re.Match object; span=(0, 8), match='sunkeert'>\n"
     ]
    }
   ],
   "source": [
    "#regular expression\n",
    "import re\n",
    "main_str=\"sunkeerth is very hard worker\"\n",
    "str=r'sunkeert'\n",
    "match=re.match(str,main_str)\n",
    "print(match)\n"
   ]
  },
  {
   "cell_type": "code",
   "execution_count": 7,
   "id": "56f31021-caf1-4b8c-9d35-2bcd72124517",
   "metadata": {},
   "outputs": [
    {
     "name": "stdout",
     "output_type": "stream",
     "text": [
      "None\n"
     ]
    }
   ],
   "source": [
    "#dis advantage is it gives only value if at starting\n",
    "import re\n",
    "main_str=\"sunkeerth is very hard worker\"\n",
    "str=r'very'\n",
    "match=re.match(str,main_str)\n",
    "print(match)"
   ]
  },
  {
   "cell_type": "code",
   "execution_count": 23,
   "id": "21521ca5-21d0-4b31-87e7-0004d30ccac1",
   "metadata": {},
   "outputs": [
    {
     "name": "stdout",
     "output_type": "stream",
     "text": [
      "sunkeerth\n"
     ]
    }
   ],
   "source": [
    "import re\n",
    "main_str=\"sunkeerth is very hard worker\"\n",
    "str=r'sunkeerth'\n",
    "match=re.match(str,main_str)\n",
    "#print(match)\n",
    "start,end=match.span()\n",
    "print(main_str[match.start():match.end():])"
   ]
  },
  {
   "cell_type": "code",
   "execution_count": 25,
   "id": "f241b943-54b3-4c20-b704-da89cf2375a1",
   "metadata": {},
   "outputs": [
    {
     "name": "stdout",
     "output_type": "stream",
     "text": [
      "going\n"
     ]
    }
   ],
   "source": [
    "import re\n",
    "main_stri='iam going to be a enthrapuner'\n",
    "stri=r'going'\n",
    "#print(re.search(stri,main_stri))\n",
    "match=re.search(stri,main_stri)\n",
    "print(main_stri[match.start():match.end()])"
   ]
  },
  {
   "cell_type": "code",
   "execution_count": null,
   "id": "a8de56eb-d3d4-43ee-8616-46aacfedec37",
   "metadata": {},
   "outputs": [],
   "source": []
  },
  {
   "cell_type": "code",
   "execution_count": null,
   "id": "74270168-7ed4-49ba-b45c-a20924e2b0e3",
   "metadata": {},
   "outputs": [],
   "source": []
  }
 ],
 "metadata": {
  "kernelspec": {
   "display_name": "Python 3 (ipykernel)",
   "language": "python",
   "name": "python3"
  },
  "language_info": {
   "codemirror_mode": {
    "name": "ipython",
    "version": 3
   },
   "file_extension": ".py",
   "mimetype": "text/x-python",
   "name": "python",
   "nbconvert_exporter": "python",
   "pygments_lexer": "ipython3",
   "version": "3.12.3"
  }
 },
 "nbformat": 4,
 "nbformat_minor": 5
}
