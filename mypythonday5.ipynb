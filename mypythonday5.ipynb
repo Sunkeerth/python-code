{
 "cells": [
  {
   "cell_type": "code",
   "execution_count": 4,
   "id": "3b25d220-ff60-439b-bbb8-f41b68f1347b",
   "metadata": {},
   "outputs": [
    {
     "ename": "SyntaxError",
     "evalue": "cannot assign to function call here. Maybe you meant '==' instead of '='? (2346343491.py, line 11)",
     "output_type": "error",
     "traceback": [
      "\u001b[1;36m  Cell \u001b[1;32mIn[4], line 11\u001b[1;36m\u001b[0m\n\u001b[1;33m    add()=d\u001b[0m\n\u001b[1;37m    ^\u001b[0m\n\u001b[1;31mSyntaxError\u001b[0m\u001b[1;31m:\u001b[0m cannot assign to function call here. Maybe you meant '==' instead of '='?\n"
     ]
    }
   ],
   "source": [
    "# modules in python\n",
    "def add(a=10,b=20):\n",
    "    c=a+b\n",
    "    pint(c)\n",
    "def mul(a=10,b=20):\n",
    "    c=a*b\n",
    "    print(c)\n",
    "def div(a=10,b=20):\n",
    "    c=a/b\n",
    "    print(c)\n"
   ]
  },
  {
   "cell_type": "code",
   "execution_count": null,
   "id": "856bd44b-b2a6-4afb-a367-aebe942256e6",
   "metadata": {},
   "outputs": [],
   "source": []
  }
 ],
 "metadata": {
  "kernelspec": {
   "display_name": "Python 3 (ipykernel)",
   "language": "python",
   "name": "python3"
  },
  "language_info": {
   "codemirror_mode": {
    "name": "ipython",
    "version": 3
   },
   "file_extension": ".py",
   "mimetype": "text/x-python",
   "name": "python",
   "nbconvert_exporter": "python",
   "pygments_lexer": "ipython3",
   "version": "3.12.3"
  }
 },
 "nbformat": 4,
 "nbformat_minor": 5
}
