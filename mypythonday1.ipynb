{
 "cells": [
  {
   "cell_type": "code",
   "execution_count": null,
   "id": "fa03267d-427a-4f58-a025-f411fddf5fc3",
   "metadata": {},
   "outputs": [],
   "source": [
    " basic Data types in python\n",
    "1.int\n",
    "2.float\n",
    "3.str\n",
    "4.bool\n",
    "\n",
    "the obj is stored in private heap\n",
    "reference are stored in the stack refering tothe obj of its adders\n"
   ]
  },
  {
   "cell_type": "code",
   "execution_count": 2,
   "id": "422218f9-fe16-4158-abca-1f62c2a54fd3",
   "metadata": {},
   "outputs": [
    {
     "name": "stdout",
     "output_type": "stream",
     "text": [
      "4\n",
      "<class 'int'>\n"
     ]
    }
   ],
   "source": [
    "#int\n",
    "a = 4\n",
    "print(a)\n",
    "print(type(a))"
   ]
  },
  {
   "cell_type": "code",
   "execution_count": 3,
   "id": "ac0e7a49-8989-4afa-a665-2f24f2707a4c",
   "metadata": {},
   "outputs": [
    {
     "name": "stdout",
     "output_type": "stream",
     "text": [
      "4.44\n",
      "<class 'float'>\n"
     ]
    }
   ],
   "source": [
    "# float\n",
    "a = 4.44\n",
    "print(a)\n",
    "print(type(a))"
   ]
  },
  {
   "cell_type": "code",
   "execution_count": 5,
   "id": "27103fc3-1fd0-4c23-9656-04b56717924a",
   "metadata": {},
   "outputs": [
    {
     "name": "stdout",
     "output_type": "stream",
     "text": [
      "sunkeerth\n",
      "<class 'str'>\n"
     ]
    }
   ],
   "source": [
    "# string\n",
    "a = 'sunkeerth'\n",
    "# \" sunkkerth\" also ''' sunkeerth''' it is for multiple lines\n",
    "print(a)\n",
    "print(type(a))"
   ]
  },
  {
   "cell_type": "code",
   "execution_count": 6,
   "id": "a3ca24c0-0869-4eaa-93a5-cc62fe7821da",
   "metadata": {},
   "outputs": [
    {
     "name": "stdout",
     "output_type": "stream",
     "text": [
      "True\n",
      "<class 'bool'>\n"
     ]
    }
   ],
   "source": [
    "# boolean\n",
    "a = 9>5\n",
    "print(a)\n",
    "print(type(a))"
   ]
  },
  {
   "cell_type": "markdown",
   "id": "744910e5-d461-4d8a-b45e-4b6c6bc70a0e",
   "metadata": {},
   "source": [
    "## advanced data type\n",
    "1.list\n",
    "2.tuple\n",
    "3.set\n",
    "4.distonary\n",
    "1. list is sequential collaction of data where we can add and delete the elements in list []\n",
    "2.tuple is sequential collaction of data where we can't add and delete in tuple  ()\n",
    "3.set is inordered  collaction of data where we can add and delete element in set {}\n",
    "4.distnoary is the collaction key and value  we can add and delete in distonary {:}\n"
   ]
  },
  {
   "cell_type": "code",
   "execution_count": 7,
   "id": "a218ebf5-3ec3-43d8-85c1-7f9303ac4947",
   "metadata": {},
   "outputs": [
    {
     "name": "stdout",
     "output_type": "stream",
     "text": [
      "[1, 2, 3, 4]\n",
      "[1, 2, 3, 4, 5]\n",
      "[1, 2, 3, 4]\n"
     ]
    }
   ],
   "source": [
    "#list\n",
    "li = [1,2,3,4]\n",
    "print(li)\n",
    "li.append(5)\n",
    "print(li)\n",
    "li.remove(5)\n",
    "print(li)\n",
    "print(type(li))"
   ]
  },
  {
   "cell_type": "code",
   "execution_count": 9,
   "id": "da4dadc1-65ab-4169-9e42-3c1d77bc7ab9",
   "metadata": {},
   "outputs": [
    {
     "name": "stdout",
     "output_type": "stream",
     "text": [
      "(1, 2, 3, 4)\n",
      "(1, 2, 3, 4)\n",
      "<class 'tuple'>\n"
     ]
    }
   ],
   "source": [
    "#tuple\n",
    "tu = (1,2,3,4)\n",
    "print(tu)\n",
    "#tu.append(5)\n",
    "print(tu)\n",
    "#tu.remove(5)\n",
    "#print(li)\n",
    "print(type(tu))"
   ]
  },
  {
   "cell_type": "code",
   "execution_count": 15,
   "id": "b04898ac-fb1c-4020-b716-f78c1893895e",
   "metadata": {},
   "outputs": [
    {
     "name": "stdout",
     "output_type": "stream",
     "text": [
      "{1, 2, 3, 4}\n",
      "{1, 2, 3, 4, 5}\n",
      "{1, 2, 3, 4}\n",
      "<class 'set'>\n"
     ]
    }
   ],
   "source": [
    "# set \n",
    "se = {1,2,3,4}\n",
    "print(se)\n",
    "se.add(5)\n",
    "print(se)\n",
    "se.remove(5)\n",
    "print(se)\n",
    "print(type(se))\n"
   ]
  },
  {
   "cell_type": "code",
   "execution_count": 1,
   "id": "53f4d5d5-4ece-43fa-8ca4-4c1dfbd66e54",
   "metadata": {},
   "outputs": [
    {
     "ename": "SyntaxError",
     "evalue": "invalid syntax (2705675765.py, line 4)",
     "output_type": "error",
     "traceback": [
      "\u001b[1;36m  Cell \u001b[1;32mIn[1], line 4\u001b[1;36m\u001b[0m\n\u001b[1;33m    di.\u001b[0m\n\u001b[1;37m       ^\u001b[0m\n\u001b[1;31mSyntaxError\u001b[0m\u001b[1;31m:\u001b[0m invalid syntax\n"
     ]
    }
   ],
   "source": [
    "# distonary\n",
    "di = {\"sa\":\"ka\",\"san\":\"kav\"}\n",
    "print(di)\n",
    "di.\n",
    "print(di)\n",
    "li.remove(5)\n",
    "print(li)\n",
    "print(type(li))"
   ]
  },
  {
   "cell_type": "code",
   "execution_count": null,
   "id": "4ac14a79-13d1-4e44-9a40-b7c5be5333d1",
   "metadata": {},
   "outputs": [],
   "source": []
  }
 ],
 "metadata": {
  "kernelspec": {
   "display_name": "Python 3 (ipykernel)",
   "language": "python",
   "name": "python3"
  },
  "language_info": {
   "codemirror_mode": {
    "name": "ipython",
    "version": 3
   },
   "file_extension": ".py",
   "mimetype": "text/x-python",
   "name": "python",
   "nbconvert_exporter": "python",
   "pygments_lexer": "ipython3",
   "version": "3.12.3"
  }
 },
 "nbformat": 4,
 "nbformat_minor": 5
}
