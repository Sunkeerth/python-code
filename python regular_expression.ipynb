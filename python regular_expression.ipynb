{
 "cells": [
  {
   "cell_type": "code",
   "execution_count": 9,
   "id": "3c7f16c8-580f-4625-af10-090fb1fdc8b2",
   "metadata": {},
   "outputs": [
    {
     "name": "stdout",
     "output_type": "stream",
     "text": [
      "None one\n",
      "<re.Match object; span=(0, 6), match='python'> two\n",
      "python\n"
     ]
    }
   ],
   "source": [
    "import re\n",
    "st='python is easy'\n",
    "regex=r'is'\n",
    "res=re.match(regex,st)\n",
    "print(res,\"one\")\n",
    "# output is none beacause match is only starts matching from start\n",
    "regex=r'python'\n",
    "res1=re.match(regex,st)\n",
    "print(res1,\"two\")\n",
    "start,end=res1.span()\n",
    "print(st[res1.start():res1.end():])\n",
    "\n",
    "\n"
   ]
  },
  {
   "cell_type": "code",
   "execution_count": 17,
   "id": "b2d13533-6d5d-46cd-8b02-923d9257c97d",
   "metadata": {},
   "outputs": [
    {
     "name": "stdin",
     "output_type": "stream",
     "text": [
      "enter the text to search is\n"
     ]
    },
    {
     "name": "stdout",
     "output_type": "stream",
     "text": [
      "<re.Match object; span=(7, 9), match='is'> one\n",
      "is\n"
     ]
    }
   ],
   "source": [
    "# to overcome the above limetation that it give only at stsrting\n",
    "import re\n",
    "st='python is easy'\n",
    "regex=(input(r\"enter the text to search\"))\n",
    "res=re.search(regex,st)\n",
    "print(res,\"one\")\n",
    "start,end=res.span()\n",
    "print(st[res.start():res.end():])"
   ]
  },
  {
   "cell_type": "code",
   "execution_count": 20,
   "id": "1140f757-c1c6-4740-9686-ef1132c1f5c4",
   "metadata": {},
   "outputs": [
    {
     "name": "stdout",
     "output_type": "stream",
     "text": [
      "['p', 'y', 't', 'h', 'o', 'n', ' ', 'i', 's', ' ', 'e', 'a', 's', 'y']\n"
     ]
    }
   ],
   "source": [
    "#meta characters\n",
    "\"\"\" it searches every  character in what we ar seaching\"\"\"\n",
    "import re\n",
    "s='python is easy'\n",
    "regex=r'.'\n",
    "l=re.findall(regex,s)\n",
    "print(l)"
   ]
  },
  {
   "cell_type": "code",
   "execution_count": 23,
   "id": "8c319b86-d454-4af3-b54b-80c0543cb478",
   "metadata": {},
   "outputs": [
    {
     "name": "stdout",
     "output_type": "stream",
     "text": [
      "['.']\n",
      "[]\n"
     ]
    }
   ],
   "source": [
    "\"\"\" it searches every  character in what we ar seaching leaving all charter it will return that we are searching\n",
    "\"\"\"\n",
    "import re\n",
    "s='python is easy.'\n",
    "regex=r'\\.'\n",
    "l=re.findall(regex,s)\n",
    "print(l)\n",
    "s='python is easy'\n",
    "regex=r'\\.'\n",
    "l=re.findall(regex,s)\n",
    "print(l)"
   ]
  },
  {
   "cell_type": "code",
   "execution_count": 28,
   "id": "8d98aabe-1db0-469d-ad0e-a61334ef1d4d",
   "metadata": {},
   "outputs": [
    {
     "name": "stdout",
     "output_type": "stream",
     "text": [
      "['python', 'is']\n",
      "['python']\n",
      "[]\n",
      "['o', 'i']\n"
     ]
    }
   ],
   "source": [
    "#or\n",
    "import re\n",
    "s='python is easy.'\n",
    "regex=r'python|is'\n",
    "l=re.findall(regex,s)\n",
    "print(l)\n",
    "\n",
    "s='python is easy.'\n",
    "regex=r'python|or'\n",
    "l=re.findall(regex,s)\n",
    "print(l)\n",
    "\n",
    "s='python is easy.'\n",
    "regex=r'orr|ooo'\n",
    "l=re.findall(regex,s)\n",
    "print(l)\n",
    "\n",
    "# consider the we ar sraching as as characters\n",
    "s='python is easy.'\n",
    "regex=r'o|i'\n",
    "l=re.findall(regex,s)\n",
    "print(l)"
   ]
  },
  {
   "cell_type": "code",
   "execution_count": 30,
   "id": "1bf10a99-fdb5-4f66-9202-bebeb8f08105",
   "metadata": {},
   "outputs": [
    {
     "name": "stdout",
     "output_type": "stream",
     "text": [
      "['w', 'hole', 'hole', 'w', 'w', 'w', 'hole']\n"
     ]
    }
   ],
   "source": [
    "st='a whole hole is not a wwwhole'\n",
    "regex=r'w|hole'\n",
    "res=re.findall(regex,st)\n",
    "print(res)"
   ]
  },
  {
   "cell_type": "code",
   "execution_count": 32,
   "id": "24eaa008-dd50-4714-be0a-94d6ed60e4c4",
   "metadata": {},
   "outputs": [
    {
     "name": "stdout",
     "output_type": "stream",
     "text": [
      "['whole', 'hole', 'wwwhole']\n"
     ]
    }
   ],
   "source": [
    "st='a whole hole is not a wwwhole'\n",
    "regex=r'w*hole'#where w it might be 0,or many times may occues\n",
    "res=re.findall(regex,st)\n",
    "print(res)"
   ]
  },
  {
   "cell_type": "code",
   "execution_count": 33,
   "id": "61a3763a-2e96-4fdc-ae12-6cf3964d616e",
   "metadata": {},
   "outputs": [
    {
     "name": "stdout",
     "output_type": "stream",
     "text": [
      "['whole', 'hole', 'whole']\n"
     ]
    }
   ],
   "source": [
    "st='a whole hole is not a wwwhole'\n",
    "regex=r'w?hole'#where ?w it might be 0,or 1 times may occues\n",
    "res=re.findall(regex,st)\n",
    "print(res)"
   ]
  },
  {
   "cell_type": "code",
   "execution_count": 34,
   "id": "a68abf7b-0bc3-4089-ba2c-2defaa0094df",
   "metadata": {},
   "outputs": [
    {
     "name": "stdout",
     "output_type": "stream",
     "text": [
      "['whole', 'hole', 'whole']\n"
     ]
    }
   ],
   "source": [
    "st='a whole hole is not a wwwhole'\n",
    "regex=r'w?hole'#where ?w it might be 1,or many times may occues\n",
    "res=re.findall(regex,st)\n",
    "print(res)"
   ]
  },
  {
   "cell_type": "code",
   "execution_count": 36,
   "id": "39bb7bc7-01da-4d56-b9f9-8801fb27fe99",
   "metadata": {},
   "outputs": [
    {
     "name": "stdout",
     "output_type": "stream",
     "text": [
      "['whole', 'hole', 'whole']\n"
     ]
    }
   ],
   "source": [
    "st='a whole hole is not a wwwhole'\n",
    "regex=r'w?hole'#where ?w it might be 1,or many times may occues\n",
    "res=re.findall(regex,st)\n",
    "print(res)"
   ]
  },
  {
   "cell_type": "code",
   "execution_count": 41,
   "id": "e7b8532d-3943-4831-8510-70a1a03cfe52",
   "metadata": {},
   "outputs": [
    {
     "name": "stdout",
     "output_type": "stream",
     "text": [
      "['google', 'gooogle', 'goooogle', 'gooooogle', 'goooooogle'] \n",
      " no of occurences  5\n"
     ]
    }
   ],
   "source": [
    "st='''gogle\n",
    "google\n",
    "gooogle\n",
    "goooogle\n",
    "gooooogle\n",
    "goooooogle'''\n",
    "regex=r'go{2,6}gle'\n",
    "res=re.findall(regex,st)\n",
    "print(res,'\\n no of occurences ',len(res))\n"
   ]
  },
  {
   "cell_type": "code",
   "execution_count": 44,
   "id": "c5056f27-cbef-4c97-b64e-97d681c3ec48",
   "metadata": {},
   "outputs": [
    {
     "name": "stdout",
     "output_type": "stream",
     "text": [
      "['gogle'] \n",
      " no of occurences  1\n"
     ]
    }
   ],
   "source": [
    "st='''gogle\n",
    "google\n",
    "gooogle\n",
    "goooogle\n",
    "gooooogle\n",
    "gogle'''\n",
    "regex=r'^gogle'#start search\n",
    "res=re.findall(regex,st)\n",
    "print(res,'\\n no of occurences ',len(res))\n"
   ]
  },
  {
   "cell_type": "code",
   "execution_count": 47,
   "id": "7715c667-cbc6-461f-912c-708208aa37fa",
   "metadata": {},
   "outputs": [
    {
     "name": "stdout",
     "output_type": "stream",
     "text": [
      "['gogle'] \n",
      " no of occurences  1\n"
     ]
    }
   ],
   "source": [
    "st='''gogle\n",
    "google\n",
    "gooogle\n",
    "goooogle\n",
    "gooooogle\n",
    "gogle'''\n",
    "regex=r'gogle$'#end search or i reverse\n",
    "res=re.findall(regex,st)\n",
    "print(res,'\\n no of occurences ',len(res))"
   ]
  },
  {
   "cell_type": "code",
   "execution_count": 48,
   "id": "1b33c3c2-c89e-456d-9b64-357148ee7139",
   "metadata": {},
   "outputs": [
    {
     "name": "stdout",
     "output_type": "stream",
     "text": [
      "['o', 'o', 'o', 'o', 'o', 'o', 'o', 'o', 'o', 'o', 'o', 'o', 'o', 'o', 'o', 'o'] \n",
      " no of occurences  16\n"
     ]
    }
   ],
   "source": [
    "st='''gogle\n",
    "google\n",
    "gooogle\n",
    "goooogle\n",
    "gooooogle\n",
    "gogle'''\n",
    "regex=r'[o]'#end search or i reverse\n",
    "res=re.findall(regex,st)\n",
    "print(res,'\\n no of occurences ',len(res))"
   ]
  },
  {
   "cell_type": "code",
   "execution_count": 50,
   "id": "50626e2a-f8dc-4f8b-9802-e6d62b787197",
   "metadata": {},
   "outputs": [
    {
     "name": "stdout",
     "output_type": "stream",
     "text": [
      "['g', 'g', 'g', 'g', 'g', 'g', 'g', 'g', 'g', 'g', 'g', 'g'] \n",
      " no of occurences  12\n"
     ]
    }
   ],
   "source": [
    "st='''gogle\n",
    "google\n",
    "gooogle\n",
    "goooogle\n",
    "gooooogle\n",
    "gogle'''\n",
    "regex=r'[g]'#end search or i reverse\n",
    "res=re.findall(regex,st)\n",
    "print(res,'\\n no of occurences ',len(res))"
   ]
  },
  {
   "cell_type": "code",
   "execution_count": 52,
   "id": "48f3239f-91ed-48c8-8f5b-154f06ffc9f7",
   "metadata": {},
   "outputs": [
    {
     "name": "stdout",
     "output_type": "stream",
     "text": [
      "['o', 'l', 'e', '\\n', 'o', 'o', 'l', 'e', '\\n', 'o', 'o', 'o', 'l', 'e', '\\n', 'o', 'o', 'o', 'o', 'l', 'e', '\\n', 'o', 'o', 'o', 'o', 'o', 'l', 'e', '\\n', 'o', 'l', 'e', ' ', ' ', '9', '9', '4', '5', '1', '2', '9', '5'] \n",
      " no of occurences  43\n"
     ]
    }
   ],
   "source": [
    "st='''gogle\n",
    "google\n",
    "gooogle\n",
    "goooogle\n",
    "gooooogle\n",
    "gogle  99451295'''\n",
    "regex=r'[^g]'#it gives the ecepted\n",
    "res=re.findall(regex,st)\n",
    "print(res,'\\n no of occurences ',len(res))"
   ]
  },
  {
   "cell_type": "code",
   "execution_count": 53,
   "id": "43c742b8-c536-471a-8ed0-9856fad8611d",
   "metadata": {},
   "outputs": [
    {
     "name": "stdout",
     "output_type": "stream",
     "text": [
      "['g', 'g', 'g', 'g', 'g', 'g', 'g', 'g', 'g', 'g', 'g', 'g'] \n",
      " no of occurences  12\n"
     ]
    }
   ],
   "source": [
    "st='''gogle\n",
    "google\n",
    "gooogle\n",
    "goooogle\n",
    "gooooogle\n",
    "gogle  99451295'''\n",
    "regex=r'[g$]'#it gives the ecepted\n",
    "res=re.findall(regex,st)\n",
    "print(res,'\\n no of occurences ',len(res))"
   ]
  },
  {
   "cell_type": "code",
   "execution_count": 55,
   "id": "6893bd85-f9e3-4bf0-946d-d46502323e2f",
   "metadata": {},
   "outputs": [
    {
     "name": "stdout",
     "output_type": "stream",
     "text": [
      "['g', 'o', 'g', 'l', 'e', 'g', 'o', 'o', 'g', 'l', 'e', 'g', 'o', 'o', 'o', 'g', 'l', 'e', 'g', 'o', 'o', 'o', 'o', 'g', 'l', 'e', 'g', 'o', 'o', 'o', 'o', 'o', 'g', 'l', 'e', 'g', 'o', 'g', 'l', 'e', '9', '9', '4', '5', '1', '2', '9', '5'] \n",
      " no of occurences  48\n"
     ]
    }
   ],
   "source": [
    "st='''gogle\n",
    "google\n",
    "gooogle\n",
    "goooogle\n",
    "gooooogle\n",
    "gogle  99451295'''\n",
    "regex=r'\\w'#it is alpha numeric\n",
    "\n",
    "res=re.findall(regex,st)\n",
    "print(res,'\\n no of occurences ',len(res))"
   ]
  },
  {
   "cell_type": "code",
   "execution_count": 57,
   "id": "50c8f1c1-a48d-4602-a998-1235a0c971df",
   "metadata": {},
   "outputs": [
    {
     "name": "stdout",
     "output_type": "stream",
     "text": [
      "['\\n', '\\n', '\\n', '\\n', '\\n', ' ', ' ']  no of occurences  7\n"
     ]
    }
   ],
   "source": [
    "st='''gogle\n",
    "google\n",
    "gooogle\n",
    "goooogle\n",
    "gooooogle\n",
    "gogle  99451295'''\n",
    "regex=r'\\W'#it is alpha numeric\n",
    "\n",
    "res=re.findall(regex,st)\n",
    "print(res,' no of occurences ',len(res))"
   ]
  },
  {
   "cell_type": "code",
   "execution_count": null,
   "id": "ff0d8b09-6ea4-47f7-9eb3-0281536d5693",
   "metadata": {},
   "outputs": [],
   "source": []
  }
 ],
 "metadata": {
  "kernelspec": {
   "display_name": "Python 3 (ipykernel)",
   "language": "python",
   "name": "python3"
  },
  "language_info": {
   "codemirror_mode": {
    "name": "ipython",
    "version": 3
   },
   "file_extension": ".py",
   "mimetype": "text/x-python",
   "name": "python",
   "nbconvert_exporter": "python",
   "pygments_lexer": "ipython3",
   "version": "3.12.3"
  }
 },
 "nbformat": 4,
 "nbformat_minor": 5
}
