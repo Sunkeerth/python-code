{
 "cells": [
  {
   "cell_type": "markdown",
   "id": "f303abe9-6e31-4c97-8cdd-aa44cad18226",
   "metadata": {},
   "source": [
    "For loop:\n",
    "A  for loop is used for \n",
    "iterating over a sequence (that is either a list, a \n",
    "tuple, a dictionary, a set, or a string).\n",
    "Iterable is something which can work on/with for\n",
    "loop.\n",
    "Syntax:\n",
    "for var in iterable:\n",
    "body of the loop"
   ]
  },
  {
   "cell_type": "code",
   "execution_count": 7,
   "id": "12c5b4e6-3a3f-4807-9f25-f5d829e39930",
   "metadata": {},
   "outputs": [
    {
     "name": "stdout",
     "output_type": "stream",
     "text": [
      "500 15000 before transtion\n",
      "14000 15000 after transtion\n"
     ]
    }
   ],
   "source": [
    "bank_balance=15000\n",
    "balance=500\n",
    "print(balance,bank_balance,\"before transtion\")\n",
    "for i in range(5):\n",
    "    bal=bank_balance-1000\n",
    "print(bal,bank_balance,\"after transtion\")\n",
    "    "
   ]
  },
  {
   "cell_type": "code",
   "execution_count": 26,
   "id": "c548a935-85b1-47b2-bb93-461da9a3ad24",
   "metadata": {},
   "outputs": [
    {
     "name": "stdout",
     "output_type": "stream",
     "text": [
      "2 not a prime number\n",
      "3 prime number\n",
      "4 not a prime number\n",
      "5 prime number\n",
      "6 not a prime number\n",
      "7 prime number\n",
      "8 not a prime number\n",
      "9 prime number\n",
      "10 not a prime number\n"
     ]
    }
   ],
   "source": [
    "# prime number\n",
    "n=10\n",
    "for i in range(2,n+1):\n",
    "    if i%2==0 :\n",
    "        print(i,\"not a prime number\")\n",
    "    else:            \n",
    "        print(i,\"prime number\")"
   ]
  },
  {
   "cell_type": "code",
   "execution_count": 4,
   "id": "7beaba8d-aa7c-43ea-a697-b07b82763bef",
   "metadata": {},
   "outputs": [
    {
     "name": "stdin",
     "output_type": "stream",
     "text": [
      "Enter the number 5\n"
     ]
    },
    {
     "name": "stdout",
     "output_type": "stream",
     "text": [
      "is a prime number\n"
     ]
    }
   ],
   "source": [
    "# brack statment\n",
    "n=int(input(\"Enter the number\"))\n",
    "for i in range(2,n+1):\n",
    "    if n%i==0:\n",
    "        pass\n",
    "if i==n:\n",
    "    print(\"is a prime number\")\n",
    "else:\n",
    "    print(\"is not a prime number\")"
   ]
  },
  {
   "cell_type": "code",
   "execution_count": 9,
   "id": "b7d93bc3-63ca-4be2-abb3-66900444b27d",
   "metadata": {},
   "outputs": [
    {
     "name": "stdout",
     "output_type": "stream",
     "text": [
      "5\n",
      "10\n",
      "5\n",
      "10\n",
      "5\n",
      "0\n",
      "5\n",
      "25\n",
      "5\n",
      "0\n"
     ]
    }
   ],
   "source": [
    "a=5\n",
    "print(a)\n",
    "a=a+5\n",
    "print(a)\n",
    "\n",
    "# short cut \n",
    "a=5\n",
    "print(a)\n",
    "a+=5\n",
    "print(a)\n",
    "\n",
    "a=5\n",
    "print(a)\n",
    "a-=5\n",
    "print(a)\n",
    "\n",
    "a=5\n",
    "print(a)\n",
    "a*=5\n",
    "print(a)\n",
    "\n",
    "a=5\n",
    "print(a)\n",
    "a%=5\n",
    "print(a)\n"
   ]
  },
  {
   "cell_type": "code",
   "execution_count": 15,
   "id": "d9facd89-d2d0-464e-ba99-7fcf25607a29",
   "metadata": {},
   "outputs": [
    {
     "name": "stdin",
     "output_type": "stream",
     "text": [
      "enter an number 5\n"
     ]
    },
    {
     "name": "stdout",
     "output_type": "stream",
     "text": [
      "9 even number\n",
      "7 odd number\n"
     ]
    }
   ],
   "source": [
    "# even or odd number\n",
    "even_sum,odd_sum = 0,0\n",
    "n=int(input(\"enter an number\"))\n",
    "for i in range(2,n+1):\n",
    "    if i%2==0:\n",
    "        even_sum += i\n",
    "        continue\n",
    "    odd_sum += i\n",
    "print(even_sum,\"even number\")\n",
    "print(odd_sum,\"odd number\")\n",
    "\n",
    "\n",
    "    "
   ]
  },
  {
   "cell_type": "markdown",
   "id": "27ab5751-6510-4a15-a474-83324449ebd6",
   "metadata": {},
   "source": [
    "lamda functions:\n",
    "Syntax:\n",
    "lambda arguments : expression\n",
    "lambda functions are single line, single use or one time use functions\n",
    "\n"
   ]
  },
  {
   "cell_type": "code",
   "execution_count": 21,
   "id": "038ca2a8-b885-4d44-8c61-cf8c4a415df6",
   "metadata": {},
   "outputs": [
    {
     "name": "stdout",
     "output_type": "stream",
     "text": [
      "8\n",
      "81\n"
     ]
    }
   ],
   "source": [
    " fun = (lambda num,a : num**a) (2,3)\n",
    "print(fun)\n",
    "# draw back:We cannot use the lambda function again and again \n",
    "\n",
    "fun=lambda num,a:num**a\n",
    "res=fun(3,4)\n",
    "print(res)\n"
   ]
  },
  {
   "cell_type": "code",
   "execution_count": 25,
   "id": "43809c18-be34-4b9a-a9d1-a452770ec834",
   "metadata": {},
   "outputs": [
    {
     "name": "stdout",
     "output_type": "stream",
     "text": [
      "0\n"
     ]
    }
   ],
   "source": [
    "fun=lambda a,b:a%2==0 and b%2==0\n",
    "res=int(fun(7,9))\n",
    "print(res)\n"
   ]
  },
  {
   "cell_type": "code",
   "execution_count": null,
   "id": "a318d466-6acf-4d38-b9ae-5476ecc2eaec",
   "metadata": {},
   "outputs": [],
   "source": []
  }
 ],
 "metadata": {
  "kernelspec": {
   "display_name": "Python 3 (ipykernel)",
   "language": "python",
   "name": "python3"
  },
  "language_info": {
   "codemirror_mode": {
    "name": "ipython",
    "version": 3
   },
   "file_extension": ".py",
   "mimetype": "text/x-python",
   "name": "python",
   "nbconvert_exporter": "python",
   "pygments_lexer": "ipython3",
   "version": "3.12.3"
  }
 },
 "nbformat": 4,
 "nbformat_minor": 5
}
