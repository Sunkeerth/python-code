{
 "cells": [
  {
   "cell_type": "code",
   "execution_count": 31,
   "id": "a8afcbcf-0858-49a9-bc37-27b95501eba9",
   "metadata": {},
   "outputs": [
    {
     "name": "stdout",
     "output_type": "stream",
     "text": [
      "Help on built-in function acos in module math:\n",
      "\n",
      "acos(x, /)\n",
      "    Return the arc cosine (measured in radians) of x.\n",
      "\n",
      "    The result is between 0 and pi.\n",
      "\n",
      "Help on built-in function pow in module math:\n",
      "\n",
      "pow(x, y, /)\n",
      "    Return x**y (x to the power of y).\n",
      "\n"
     ]
    },
    {
     "data": {
      "text/plain": [
       "8.0"
      ]
     },
     "execution_count": 31,
     "metadata": {},
     "output_type": "execute_result"
    }
   ],
   "source": [
    "# built in function\n",
    "\n",
    "import math\n",
    "#help(math)\n",
    "# help() is a function which will give you complete description about \n",
    "# each function present in that module. Above are only few functions \n",
    "# present in math module.\n",
    "\n",
    "\n",
    "# And if you just want to know the different functions present in the \n",
    "#module without any description the just use dir()\n",
    "\n",
    "dir(math)\n",
    "help(math.acos)\n",
    "math.acos(-1.000)\n",
    "# range of cos is b/t -1.0 to 1.0\n",
    "help(math.pow)\n",
    "math.pow(2,3)\n",
    "\n",
    "\n",
    "\n",
    "\n",
    "\n",
    "\n",
    "\n",
    "\n",
    "\n"
   ]
  },
  {
   "cell_type": "code",
   "execution_count": 32,
   "id": "723ed002-af74-4c72-91d3-08b9220b0c31",
   "metadata": {},
   "outputs": [],
   "source": [
    "#docmuntation staments\n",
    "\n",
    "#The description \n",
    "#provided is called as documentation. The definition of that function \n",
    "#is called documentation string which is enclosed within triple quotes.\n",
    "# import mymodule\n",
    "#     help(add)"
   ]
  },
  {
   "cell_type": "code",
   "execution_count": 38,
   "id": "771a4c35-5745-4b87-969e-fb9174c348fc",
   "metadata": {},
   "outputs": [
    {
     "name": "stdin",
     "output_type": "stream",
     "text": [
      " 1\n",
      " 2\n",
      " 3\n"
     ]
    },
    {
     "name": "stdout",
     "output_type": "stream",
     "text": [
      "('1', '2', '3')\n",
      "1\n",
      "2\n",
      "3\n"
     ]
    }
   ],
   "source": [
    "# returning values\n",
    "# in python there will be multiple return values\n",
    "\n",
    "a=input()\n",
    "b=input()\n",
    "c=input()\n",
    "def even(a,b,c):\n",
    "    return a,b,c\n",
    "res1,res2,res3 = even(a,b,c)\n",
    "print(even(a,b,c))\n",
    "print(res1)\n",
    "print(res2)\n",
    "print(res3)\n"
   ]
  },
  {
   "cell_type": "markdown",
   "id": "159791a2-b0bf-4193-bf0d-6e30f50cfe3c",
   "metadata": {},
   "source": [
    " input from user:\n",
    " 2 type\n",
    " 1.During program execution.Before program execution\n",
    " 2.Command line\n"
   ]
  },
  {
   "cell_type": "code",
   "execution_count": 40,
   "id": "51013c48-be50-4d8c-8359-8960ee976573",
   "metadata": {},
   "outputs": [
    {
     "name": "stdin",
     "output_type": "stream",
     "text": [
      " 1\n",
      " 2\n"
     ]
    },
    {
     "name": "stdout",
     "output_type": "stream",
     "text": [
      "12\n"
     ]
    }
   ],
   "source": [
    "# type 1 were the to take i/p and print\n",
    "a=input()\n",
    "b=input()\n",
    "def add(a,b):\n",
    "    c=a+b\n",
    "    print(c)\n",
    "if __name__=='__main__':\n",
    "    add(a,b)\n",
    "    "
   ]
  },
  {
   "cell_type": "code",
   "execution_count": 43,
   "id": "1628dde1-f03f-45b5-9663-06adc064014f",
   "metadata": {},
   "outputs": [
    {
     "name": "stdin",
     "output_type": "stream",
     "text": [
      "enter the value a: 1\n",
      "enter the value b: 2\n"
     ]
    },
    {
     "ename": "TypeError",
     "evalue": "unsupported operand type(s) for /: 'str' and 'str'",
     "output_type": "error",
     "traceback": [
      "\u001b[1;31m---------------------------------------------------------------------------\u001b[0m",
      "\u001b[1;31mTypeError\u001b[0m                                 Traceback (most recent call last)",
      "Cell \u001b[1;32mIn[43], line 8\u001b[0m\n\u001b[0;32m      6\u001b[0m     \u001b[38;5;28mprint\u001b[39m(c)\n\u001b[0;32m      7\u001b[0m \u001b[38;5;28;01mif\u001b[39;00m \u001b[38;5;18m__name__\u001b[39m\u001b[38;5;241m==\u001b[39m\u001b[38;5;124m'\u001b[39m\u001b[38;5;124m__main__\u001b[39m\u001b[38;5;124m'\u001b[39m:\n\u001b[1;32m----> 8\u001b[0m     \u001b[43madd\u001b[49m\u001b[43m(\u001b[49m\u001b[43ma\u001b[49m\u001b[43m,\u001b[49m\u001b[43mb\u001b[49m\u001b[43m)\u001b[49m\n\u001b[0;32m      9\u001b[0m \u001b[38;5;66;03m# the value of c=1+2= 3 but the output is 12 because of the python trates the input function \u001b[39;00m\n\u001b[0;32m     10\u001b[0m \u001b[38;5;66;03m# as the string so c value is 1con2 is 12\u001b[39;00m\n",
      "Cell \u001b[1;32mIn[43], line 5\u001b[0m, in \u001b[0;36madd\u001b[1;34m(a, b)\u001b[0m\n\u001b[0;32m      4\u001b[0m \u001b[38;5;28;01mdef\u001b[39;00m \u001b[38;5;21madd\u001b[39m(a,b):\n\u001b[1;32m----> 5\u001b[0m     c\u001b[38;5;241m=\u001b[39m\u001b[43ma\u001b[49m\u001b[38;5;241;43m/\u001b[39;49m\u001b[43mb\u001b[49m\n\u001b[0;32m      6\u001b[0m     \u001b[38;5;28mprint\u001b[39m(c)\n",
      "\u001b[1;31mTypeError\u001b[0m: unsupported operand type(s) for /: 'str' and 'str'"
     ]
    }
   ],
   "source": [
    "# to take i/p and print the command \n",
    "a=input(\"enter the value a:\")\n",
    "b=input(\"enter the value b:\")\n",
    "def add(a,b):\n",
    "    c=a/b\n",
    "    print(c)\n",
    "if __name__=='__main__':\n",
    "    add(a,b)\n",
    "# the value of c=1+2= 3 but the output is 12 because of the python trates the input function \n",
    "# as the string so c value is 1con2 is 12"
   ]
  },
  {
   "cell_type": "code",
   "execution_count": 42,
   "id": "fea6077a-3721-42ed-8329-0e18bc3680c0",
   "metadata": {},
   "outputs": [
    {
     "name": "stdin",
     "output_type": "stream",
     "text": [
      "enter the value a: 1\n",
      "enter the value b: 2.3\n"
     ]
    },
    {
     "name": "stdout",
     "output_type": "stream",
     "text": [
      "3.3\n"
     ]
    }
   ],
   "source": [
    "\"\"\" the value of c=1+2= 3 but the output is 12 because of the python trates the input function \n",
    " as the string so c value is 1con2 is 12\"\"\"\n",
    "\n",
    "a=int(input(\"enter the value a:\"))\n",
    "b=float(input(\"enter the value b:\"))\n",
    "def add(a,b):\n",
    "    c=a+b\n",
    "    print(c)\n",
    "if __name__=='__main__':\n",
    "    add(a,b)\n",
    "\"\"\"by typecasting string into the integer\"\"\"\n",
    " "
   ]
  },
  {
   "cell_type": "code",
   "execution_count": 44,
   "id": "3fb6684c-9809-4106-a3e3-abfd252750e1",
   "metadata": {},
   "outputs": [
    {
     "name": "stdin",
     "output_type": "stream",
     "text": [
      "enter the expression: a*b-1\n"
     ]
    },
    {
     "ename": "ValueError",
     "evalue": "invalid literal for int() with base 10: 'a*b-1'",
     "output_type": "error",
     "traceback": [
      "\u001b[1;31m---------------------------------------------------------------------------\u001b[0m",
      "\u001b[1;31mValueError\u001b[0m                                Traceback (most recent call last)",
      "Cell \u001b[1;32mIn[44], line 2\u001b[0m\n\u001b[0;32m      1\u001b[0m \u001b[38;5;66;03m# expression\u001b[39;00m\n\u001b[1;32m----> 2\u001b[0m e\u001b[38;5;241m=\u001b[39m\u001b[38;5;28;43mint\u001b[39;49m\u001b[43m(\u001b[49m\u001b[38;5;28;43minput\u001b[39;49m\u001b[43m(\u001b[49m\u001b[38;5;124;43m\"\u001b[39;49m\u001b[38;5;124;43menter the expression:\u001b[39;49m\u001b[38;5;124;43m\"\u001b[39;49m\u001b[43m)\u001b[49m\u001b[43m)\u001b[49m\n\u001b[0;32m      3\u001b[0m res\u001b[38;5;241m=\u001b[39m\u001b[38;5;28meval\u001b[39m(e)\n\u001b[0;32m      4\u001b[0m \u001b[38;5;28mprint\u001b[39m(res)\n",
      "\u001b[1;31mValueError\u001b[0m: invalid literal for int() with base 10: 'a*b-1'"
     ]
    }
   ],
   "source": [
    "# expression\n",
    "e=int(input(\"enter the expression:\"))\n",
    "res=eval(e)\n",
    "print(res)\n",
    "    "
   ]
  },
  {
   "cell_type": "code",
   "execution_count": 47,
   "id": "adfd4a1c-60c5-4b3a-b7dd-844c160fbd21",
   "metadata": {},
   "outputs": [
    {
     "name": "stdin",
     "output_type": "stream",
     "text": [
      "enter the expression: 5*4-1\n"
     ]
    },
    {
     "name": "stdout",
     "output_type": "stream",
     "text": [
      "19\n"
     ]
    }
   ],
   "source": [
    "# expression\n",
    "e=input(\"enter the expression:\")\n",
    "res=eval(e)\n",
    "print(res)\n",
    "    "
   ]
  },
  {
   "cell_type": "code",
   "execution_count": 50,
   "id": "ef375091-6734-49be-a869-b118e907ba81",
   "metadata": {},
   "outputs": [
    {
     "name": "stdout",
     "output_type": "stream",
     "text": [
      "10 20 30\n",
      "10*20*30!!10*20*30eneter the something"
     ]
    }
   ],
   "source": [
    "# print function\n",
    "\"\"\" syntax:print(value(s), sep=’ ’, end=’\\n’, file=file, flush=flush)\n",
    "Value(s): Accepts multiple input values.\n",
    "Sep: Separates the values. Separated by spaces(default) if not \n",
    "mentioned any. \n",
    "end: ends the line by \\n (new line), if not mentioned otherwise.\"\"\"\n",
    "  \n",
    "\n",
    "x=10\n",
    "y=20\n",
    "z=30\n",
    "print(x,y,z)\n",
    "print(x,y,z,sep='*',end='!!')\n",
    "\"\"\"We can see that in script mode second print statement does not end \n",
    "with newline, instead it ends with ?? so as the cursor is after the ??\n",
    "the next statements gets printed there itself\"\"\"\n",
    "print(x,y,z,sep='*',end='eneter the something')\n"
   ]
  },
  {
   "cell_type": "code",
   "execution_count": 55,
   "id": "404a00a9-3100-4ccc-9549-1a69d2b41b25",
   "metadata": {},
   "outputs": [
    {
     "name": "stdout",
     "output_type": "stream",
     "text": [
      "if statment\n"
     ]
    },
    {
     "name": "stdin",
     "output_type": "stream",
     "text": [
      "enter th enumber: 2\n",
      "enter the no: 3\n"
     ]
    },
    {
     "name": "stdout",
     "output_type": "stream",
     "text": [
      "odd no:\n"
     ]
    }
   ],
   "source": [
    "# Control statments\n",
    "\"\"\" 1:if statment\n",
    "     2:elif statment\n",
    "     3:else statment\"\"\"\n",
    "\"\"\" if statement:\n",
    "A condition is checked, if it is true the statements under if gets \n",
    "executed, if it is false then it comes out of the conditional \n",
    "statement.\"\"\"\n",
    "\n",
    "if True:\n",
    "    print(\"if statment\")\n",
    "\n",
    "# checking a number is even or false\n",
    "\n",
    "a=int(input(\"enter th enumber:\"))\n",
    "b=int(input(\"enter the no:\"))\n",
    "if a%b==0:\n",
    "    print(\"even no\")\n",
    "else:\n",
    "    print(\"odd no\")\n",
    "    \n",
    "     "
   ]
  },
  {
   "cell_type": "code",
   "execution_count": 59,
   "id": "a4cb9993-dd31-40d3-bafc-32c8271333e2",
   "metadata": {},
   "outputs": [
    {
     "name": "stdin",
     "output_type": "stream",
     "text": [
      "enter th enumber: 12\n",
      "enter the no: 10\n",
      "enter the number: 13\n"
     ]
    },
    {
     "name": "stdout",
     "output_type": "stream",
     "text": [
      "c is greater\n"
     ]
    }
   ],
   "source": [
    "\n",
    "# greatest no of 3 no\n",
    "\n",
    "a=int(input(\"enter th enumber:\"))\n",
    "b=int(input(\"enter the no:\"))\n",
    "c=int(input(\"enter the number:\"))\n",
    "if a>b and a>c:\n",
    "    print(\"a is greater\")\n",
    "elif b>c :\n",
    "    print(\"b is greater\")\n",
    "else:\n",
    "    print(\"c is greater\")\n",
    "    \n"
   ]
  },
  {
   "cell_type": "code",
   "execution_count": 62,
   "id": "5f0c7e38-e932-431e-8399-593790b3c5a2",
   "metadata": {},
   "outputs": [
    {
     "name": "stdin",
     "output_type": "stream",
     "text": [
      "enter the number: 1\n"
     ]
    },
    {
     "name": "stdout",
     "output_type": "stream",
     "text": [
      "a is flase\n"
     ]
    }
   ],
   "source": [
    "# not operator\n",
    "a=int(input(\"enter the number:\"))\n",
    "if a!=0:\n",
    "    print(\"a is flase\")\n",
    "else:\n",
    "    print(\"a is true\")"
   ]
  },
  {
   "cell_type": "code",
   "execution_count": 65,
   "id": "e8ce9404-98e4-48aa-8aac-ec6a125e1fcd",
   "metadata": {},
   "outputs": [
    {
     "name": "stdin",
     "output_type": "stream",
     "text": [
      "enter the number: 13\n"
     ]
    },
    {
     "name": "stdout",
     "output_type": "stream",
     "text": [
      "13 odd no\n"
     ]
    }
   ],
   "source": [
    "a=int(input(\"enter the number:\"))\n",
    "if a%2==0:\n",
    "    print(a,\"a is even\")\n",
    "else:\n",
    "    print(a,\"odd no\")"
   ]
  },
  {
   "cell_type": "code",
   "execution_count": null,
   "id": "d6b4bb1b-1565-4148-8bde-55c3cc8ef3c8",
   "metadata": {},
   "outputs": [],
   "source": []
  }
 ],
 "metadata": {
  "kernelspec": {
   "display_name": "Python 3 (ipykernel)",
   "language": "python",
   "name": "python3"
  },
  "language_info": {
   "codemirror_mode": {
    "name": "ipython",
    "version": 3
   },
   "file_extension": ".py",
   "mimetype": "text/x-python",
   "name": "python",
   "nbconvert_exporter": "python",
   "pygments_lexer": "ipython3",
   "version": "3.12.3"
  }
 },
 "nbformat": 4,
 "nbformat_minor": 5
}
